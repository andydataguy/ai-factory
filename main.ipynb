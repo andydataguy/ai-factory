{
 "cells": [
  {
   "cell_type": "code",
   "execution_count": 1,
   "id": "8d73bc61-d5a4-4ab6-a526-9705e34a2a06",
   "metadata": {},
   "outputs": [],
   "source": [
    "# Cell 1: Import necessary libraries\n",
    "import yaml\n",
    "from factory import load_config, get_llm\n"
   ]
  },
  {
   "cell_type": "code",
   "execution_count": 2,
   "id": "d1eb014b-1c8e-456a-a62f-39e44ae77dac",
   "metadata": {},
   "outputs": [],
   "source": [
    "\n",
    "# Cell 2: Load configuration\n",
    "config_path = 'config/config.yaml'\n",
    "config = load_config(config_path)\n",
    "\n",
    "\n"
   ]
  },
  {
   "cell_type": "code",
   "execution_count": 3,
   "id": "bc33aefd-69ae-48fa-baf7-325a97326965",
   "metadata": {},
   "outputs": [],
   "source": [
    "# Cell 3: Instantiate components\n",
    "provider = 'openai_chat'\n",
    "model = 'fast_model'\n",
    "llm = get_llm(config, provider, model)\n",
    "\n"
   ]
  },
  {
   "cell_type": "code",
   "execution_count": 4,
   "id": "a5c42a1f-4789-48ae-a875-d232a9774fde",
   "metadata": {},
   "outputs": [
    {
     "name": "stdout",
     "output_type": "stream",
     "text": [
      "Why do programmers prefer dark mode?\n",
      "\n",
      "Because light attracts bugs!\n"
     ]
    }
   ],
   "source": [
    "# Cell 4: Generate content\n",
    "prompt = \"Tell me a joke about programming.\"\n",
    "results = llm.generate(prompt)\n",
    "print(results)"
   ]
  },
  {
   "cell_type": "code",
   "execution_count": null,
   "id": "57275fe8-811a-4ed4-9ae8-8531095723c5",
   "metadata": {},
   "outputs": [],
   "source": []
  }
 ],
 "metadata": {
  "kernelspec": {
   "display_name": "Python 3 (ipykernel)",
   "language": "python",
   "name": "python3"
  },
  "language_info": {
   "codemirror_mode": {
    "name": "ipython",
    "version": 3
   },
   "file_extension": ".py",
   "mimetype": "text/x-python",
   "name": "python",
   "nbconvert_exporter": "python",
   "pygments_lexer": "ipython3",
   "version": "3.12.2"
  }
 },
 "nbformat": 4,
 "nbformat_minor": 5
}
